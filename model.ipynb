{
 "cells": [
  {
   "cell_type": "code",
   "execution_count": 2,
   "metadata": {},
   "outputs": [],
   "source": [
    "import csv\n",
    "import cv2\n",
    "import numpy as np\n",
    "%matplotlib inline\n",
    "\n",
    "lines = []\n",
    "with open ('./mydata/driving_log.csv') as csvfile:\n",
    "    reader = csv.reader(csvfile)\n",
    "    for line in reader:\n",
    "        lines.append(line)\n",
    "    \n",
    "images = []\n",
    "measurements = []\n",
    "\n",
    "for line in lines:\n",
    "    source_path = line[0]\n",
    "    if source_path == 'center':\n",
    "        continue\n",
    "    filename = source_path.split('/')[-1]\n",
    "    current_path = './mydata/IMG/' + filename\n",
    "    image = cv2.imread(current_path)\n",
    "    images.append(image)\n",
    "    measurement = float(line[3])\n",
    "    measurements.append(measurement)\n",
    "\n",
    "X_train = np.array(images)\n",
    "y_train = np.array(measurements)"
   ]
  },
  {
   "cell_type": "code",
   "execution_count": null,
   "metadata": {},
   "outputs": [
    {
     "name": "stdout",
     "output_type": "stream",
     "text": [
      "Train on 1136 samples, validate on 285 samples\n",
      "Epoch 1/10\n",
      "1136/1136 [==============================] - 2s - loss: 5.0162 - val_loss: 3.4415\n",
      "Epoch 2/10\n",
      "1136/1136 [==============================] - 2s - loss: 4.6970 - val_loss: 4.0091\n",
      "Epoch 3/10\n",
      "1136/1136 [==============================] - 2s - loss: 3.2686 - val_loss: 0.4242\n",
      "Epoch 4/10\n",
      "1136/1136 [==============================] - 2s - loss: 2.2635 - val_loss: 2.6788\n",
      "Epoch 5/10\n",
      "1136/1136 [==============================] - 2s - loss: 3.3626 - val_loss: 0.8999\n",
      "Epoch 6/10\n",
      "1136/1136 [==============================] - 2s - loss: 3.3144 - val_loss: 0.5724\n",
      "Epoch 7/10\n",
      "1136/1136 [==============================] - 2s - loss: 2.6875 - val_loss: 0.7818\n",
      "Epoch 8/10\n",
      " 672/1136 [================>.............] - ETA: 0s - loss: 2.3621"
     ]
    }
   ],
   "source": [
    "from keras.models import Sequential\n",
    "from keras.layers import Flatten, Dense, Lambda\n",
    "\n",
    "model = Sequential()\n",
    "model.add(Lambda(lambda x: x / 255.0 - 0.5, input_shape=(160, 320, 3)))\n",
    "model.add(Flatten())\n",
    "model.add(Dense(1))\n",
    "\n",
    "model.compile(loss='mse', optimizer='adam')\n",
    "model.fit(X_train, y_train, validation_split=0.2, shuffle=True, nb_epoch=10)\n",
    "\n",
    "model.save('model.h5')"
   ]
  },
  {
   "cell_type": "code",
   "execution_count": null,
   "metadata": {
    "collapsed": true
   },
   "outputs": [],
   "source": []
  },
  {
   "cell_type": "code",
   "execution_count": null,
   "metadata": {
    "collapsed": true
   },
   "outputs": [],
   "source": []
  }
 ],
 "metadata": {
  "kernelspec": {
   "display_name": "Python 3",
   "language": "python",
   "name": "python3"
  },
  "language_info": {
   "codemirror_mode": {
    "name": "ipython",
    "version": 3
   },
   "file_extension": ".py",
   "mimetype": "text/x-python",
   "name": "python",
   "nbconvert_exporter": "python",
   "pygments_lexer": "ipython3",
   "version": "3.5.2"
  },
  "widgets": {
   "state": {},
   "version": "1.1.2"
  }
 },
 "nbformat": 4,
 "nbformat_minor": 2
}
