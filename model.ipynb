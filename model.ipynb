{
 "cells": [
  {
   "cell_type": "code",
   "execution_count": 15,
   "metadata": {},
   "outputs": [],
   "source": [
    "import csv\n",
    "import cv2\n",
    "import numpy as np\n",
    "%matplotlib inline\n",
    "\n",
    "lines = []\n",
    "with open ('./data/driving_log.csv') as csvfile:\n",
    "    reader = csv.reader(csvfile)\n",
    "    for line in reader:\n",
    "        lines.append(line)\n",
    "    \n",
    "images = []\n",
    "measurements = []\n",
    "\n",
    "for line in lines:\n",
    "    source_path = line[0]\n",
    "    if source_path == 'center':\n",
    "        continue\n",
    "    filename = source_path.split('/')[-1]\n",
    "    current_path = './data/IMG/' + filename\n",
    "    image = cv2.imread(current_path)\n",
    "    image = cv2.cvtColor(image, cv2.COLOR_BGR2RGB)\n",
    "    images.append(image)\n",
    "    measurement = float(line[3])\n",
    "    measurements.append(measurement)\n",
    "    \n",
    "# Augment data with fliping images and taking opposite sign of the steering measuremnts\n",
    "augmented_images, augmented_measurements = [], []\n",
    "for image, measurement in zip(images, measurements):\n",
    "    augmented_images.append(image)\n",
    "    augmented_measurements.append(measurement)\n",
    "    augmented_images.append(cv2.flip(image, 1))\n",
    "    augmented_measurements.append(measurement*(-1.0))\n",
    "\n",
    "X_train = np.array(augmented_images)\n",
    "y_train = np.array(augmented_measurements)"
   ]
  },
  {
   "cell_type": "code",
   "execution_count": null,
   "metadata": {},
   "outputs": [
    {
     "name": "stdout",
     "output_type": "stream",
     "text": [
      "Train on 12857 samples, validate on 3215 samples\n",
      "Epoch 1/5\n",
      "12857/12857 [==============================] - 34s - loss: 0.0167 - val_loss: 0.0108\n",
      "Epoch 2/5\n",
      "12857/12857 [==============================] - 34s - loss: 0.0112 - val_loss: 0.0111\n",
      "Epoch 3/5\n",
      "12857/12857 [==============================] - 34s - loss: 0.0106 - val_loss: 0.0120\n",
      "Epoch 4/5\n",
      "12857/12857 [==============================] - 33s - loss: 0.0104 - val_loss: 0.0126\n",
      "Epoch 5/5\n",
      "  896/12857 [=>............................] - ETA: 28s - loss: 0.0092"
     ]
    }
   ],
   "source": [
    "from keras.models import Sequential\n",
    "from keras.layers import Lambda, Conv2D, MaxPooling2D, Dropout, Dense, Flatten, Cropping2D\n",
    "from keras.optimizers import Adam\n",
    "from keras.layers.advanced_activations import ELU\n",
    "\n",
    "model = Sequential()\n",
    "\n",
    "# Normalize & Cropping\n",
    "model.add(Lambda(lambda x: x / 255.0 - 0.5, input_shape=(160, 320, 3)))\n",
    "model.add(Cropping2D(cropping=((50, 20), (0, 0))))\n",
    "\n",
    "# Add 5 convolutional layers\n",
    "model.add(Conv2D(24, 5, 5, activation='elu', subsample=(2,2)))\n",
    "model.add(Conv2D(36, 5, 5, activation='elu', subsample=(2,2)))\n",
    "model.add(Conv2D(48, 5, 5, activation='elu', subsample=(2,2)))\n",
    "model.add(Conv2D(64, 3, 3, activation='elu'))\n",
    "model.add(Conv2D(64, 3, 3, activation='elu'))\n",
    "\n",
    "# Add a dropout layer\n",
    "model.add(Dropout(0.7))\n",
    "\n",
    "# Add a flatten layer\n",
    "model.add(Flatten())\n",
    "\n",
    "# Add 3 fully connected layers\n",
    "model.add(Dense(100, activation='elu'))\n",
    "model.add(Dense(50, activation='elu'))\n",
    "model.add(Dense(10, activation='elu'))\n",
    "\n",
    "# Add a fully connected output layers\n",
    "model.add(Dense(1))\n",
    "\n",
    "# Compile and train the model\n",
    "model.compile(loss='mse', optimizer='adam')\n",
    "model.fit(X_train, y_train, validation_split=0.2, shuffle=True, nb_epoch=5)\n",
    "\n",
    "# Print model summary\n",
    "print(model.summary)\n",
    "\n",
    "# Save model\n",
    "model.save('model.h5')"
   ]
  },
  {
   "cell_type": "code",
   "execution_count": null,
   "metadata": {
    "collapsed": true
   },
   "outputs": [],
   "source": []
  },
  {
   "cell_type": "code",
   "execution_count": null,
   "metadata": {
    "collapsed": true
   },
   "outputs": [],
   "source": []
  }
 ],
 "metadata": {
  "anaconda-cloud": {},
  "kernelspec": {
   "display_name": "Python 3",
   "language": "python",
   "name": "python3"
  },
  "language_info": {
   "codemirror_mode": {
    "name": "ipython",
    "version": 3
   },
   "file_extension": ".py",
   "mimetype": "text/x-python",
   "name": "python",
   "nbconvert_exporter": "python",
   "pygments_lexer": "ipython3",
   "version": "3.5.2"
  },
  "widgets": {
   "state": {},
   "version": "1.1.2"
  }
 },
 "nbformat": 4,
 "nbformat_minor": 2
}
