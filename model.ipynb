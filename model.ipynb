{
 "cells": [
  {
   "cell_type": "code",
   "execution_count": 2,
   "metadata": {},
   "outputs": [],
   "source": [
    "import csv\n",
    "import cv2\n",
    "import numpy as np\n",
    "%matplotlib inline\n",
    "\n",
    "lines = []\n",
    "with open ('./mydata/driving_log.csv') as csvfile:\n",
    "    reader = csv.reader(csvfile)\n",
    "    for line in reader:\n",
    "        lines.append(line)\n",
    "    \n",
    "images = []\n",
    "measurements = []\n",
    "\n",
    "for line in lines:\n",
    "    source_path = line[0]\n",
    "    if source_path == 'center':\n",
    "        continue\n",
    "    filename = source_path.split('/')[-1]\n",
    "    current_path = './mydata/IMG/' + filename\n",
    "    image = cv2.imread(current_path)\n",
    "    images.append(image)\n",
    "    measurement = float(line[3])\n",
    "    measurements.append(measurement)\n",
    "\n",
    "X_train = np.array(images)\n",
    "y_train = np.array(measurements)"
   ]
  },
  {
   "cell_type": "code",
   "execution_count": 3,
   "metadata": {},
   "outputs": [
    {
     "name": "stdout",
     "output_type": "stream",
     "text": [
      "Train on 1136 samples, validate on 285 samples\n",
      "Epoch 1/7\n",
      "1136/1136 [==============================] - 1s - loss: 8.0974 - val_loss: 0.6618\n",
      "Epoch 2/7\n",
      "1136/1136 [==============================] - 1s - loss: 3.3173 - val_loss: 0.3154\n",
      "Epoch 3/7\n",
      "1136/1136 [==============================] - 1s - loss: 1.5066 - val_loss: 0.3039\n",
      "Epoch 4/7\n",
      "1136/1136 [==============================] - 1s - loss: 1.2137 - val_loss: 0.1778\n",
      "Epoch 5/7\n",
      "1136/1136 [==============================] - 1s - loss: 1.2606 - val_loss: 0.4573\n",
      "Epoch 6/7\n",
      "1136/1136 [==============================] - 1s - loss: 1.4803 - val_loss: 0.3615\n",
      "Epoch 7/7\n",
      "1136/1136 [==============================] - 1s - loss: 2.1597 - val_loss: 3.8452\n"
     ]
    }
   ],
   "source": [
    "from keras.models import Sequential\n",
    "from keras.layers import Flatten, Dense, Lambda\n",
    "\n",
    "model = Sequential()\n",
    "model.add(Lambda(lambda x: x / 255.0 - 0.5, input_shape=(160, 320, 3)))\n",
    "model.add(Flatten())\n",
    "model.add(Dense(1))\n",
    "\n",
    "model.compile(loss='mse', optimizer='adam')\n",
    "model.fit(X_train, y_train, validation_split=0.2, shuffle=True, nb_epoch=7)\n",
    "\n",
    "model.save('model.h5')"
   ]
  },
  {
   "cell_type": "code",
   "execution_count": null,
   "metadata": {
    "collapsed": true
   },
   "outputs": [],
   "source": []
  }
 ],
 "metadata": {
  "kernelspec": {
   "display_name": "Python 3",
   "language": "python",
   "name": "python3"
  },
  "language_info": {
   "codemirror_mode": {
    "name": "ipython",
    "version": 3
   },
   "file_extension": ".py",
   "mimetype": "text/x-python",
   "name": "python",
   "nbconvert_exporter": "python",
   "pygments_lexer": "ipython3",
   "version": "3.5.2"
  },
  "widgets": {
   "state": {},
   "version": "1.1.2"
  }
 },
 "nbformat": 4,
 "nbformat_minor": 2
}
